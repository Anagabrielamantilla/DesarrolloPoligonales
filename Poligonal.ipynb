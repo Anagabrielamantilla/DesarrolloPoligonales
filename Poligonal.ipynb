{
  "nbformat": 4,
  "nbformat_minor": 0,
  "metadata": {
    "colab": {
      "provenance": [],
      "collapsed_sections": []
    },
    "kernelspec": {
      "name": "python3",
      "display_name": "Python 3"
    },
    "language_info": {
      "name": "python"
    }
  },
  "cells": [
    {
      "cell_type": "code",
      "execution_count": 1,
      "metadata": {
        "id": "Ytgbw2yTbR0m"
      },
      "outputs": [],
      "source": [
        "# Elaborado por:\n",
        "# Paul Goyes : goyes.yesid@gmail.com\n",
        "# Ana Mantilla : anagmd2019@gmail.com"
      ]
    },
    {
      "cell_type": "code",
      "source": [
        "import numpy as np"
      ],
      "metadata": {
        "id": "4CqvAkKItJkh"
      },
      "execution_count": null,
      "outputs": []
    },
    {
      "cell_type": "code",
      "source": [
        "# Definir la función mágica\n",
        "\n",
        "def az2carto(azi):\n",
        "  return -azi + 90"
      ],
      "metadata": {
        "id": "o3by6JYgbW9i"
      },
      "execution_count": 2,
      "outputs": []
    },
    {
      "cell_type": "code",
      "source": [
        "## VARIABLES INGRESADAS O MEDIDAS\n",
        "L=30; # Longitud de la via o segmento a calcular espesor aparente\n",
        "I=38*np.pi/180; # Buzamiento de la capa \n",
        "a=az2carto(330)*np.pi/180; #Direccion BEDDING; en azimut del rumbo\n",
        "b=az2carto(60)*np.pi/180; #Direccion de la inclinacion: en azimut del buzamiento\n",
        "f=az2carto(200)*np.pi/180; #Direccion del segmento: en azimut del rumbo"
      ],
      "metadata": {
        "id": "rSTAiooIbfGy"
      },
      "execution_count": 3,
      "outputs": []
    },
    {
      "cell_type": "code",
      "source": [
        "omega=np.arctan(np.tan(I)*np.sin(abs(a-f)))*180/np.pi # Ángulo de inclinación aparente\n",
        "E=np.sin(omega*np.pi/180)*L #ESPESOR APARENTE EN EL SEGMENTO L\n",
        "L2=abs(np.cos((f-b))*L) # LONGITUD L PROYECTADA EN LA MISMA DIRECCIÓN DEL BUZAMIENTO\n",
        "E2=np.sin(I)*L2 #ESPESOR REAL"
      ],
      "metadata": {
        "id": "9a8fupZnbpli"
      },
      "execution_count": 4,
      "outputs": []
    },
    {
      "cell_type": "code",
      "source": [
        "E2"
      ],
      "metadata": {
        "colab": {
          "base_uri": "https://localhost:8080/"
        },
        "id": "UL4MMlEobyKR",
        "outputId": "cfa250ce-e450-40b8-edb2-0a0e12e75362"
      },
      "execution_count": 5,
      "outputs": [
        {
          "output_type": "execute_result",
          "data": {
            "text/plain": [
              "14.148721560469564"
            ]
          },
          "metadata": {},
          "execution_count": 5
        }
      ]
    },
    {
      "cell_type": "code",
      "source": [
        "import pandas as pd"
      ],
      "metadata": {
        "id": "lwIVDHQkb2Dx"
      },
      "execution_count": 6,
      "outputs": []
    },
    {
      "cell_type": "code",
      "source": [
        "# Definir función para el cálculo del espesor real\n",
        "\n",
        "def cal_thick(L,I,a,b,f):\n",
        "  '''\n",
        "  cal_thick: Calcular el espesor real a partir de los datos medidos en una poligonal\n",
        "  Hecho por: Paul Goyes (goyes.yesid@gmail.com) y Ana Mantilla (anagmd2019@gmail.com)\n",
        "\n",
        "  Variables de entrada\n",
        "  L:  Longitud de la via o segmento a calcular espesor aparente (metros)\n",
        "  I: Inclinación de la capa en azimut del rumbo\n",
        "  a: Direccion del bedding en azi del rumbo\n",
        "  b: Direccion del bedding en azi del buzamiento\n",
        "  f: Direccion del segmento en azi del rumbo'''\n",
        "  ######## convertir de az2carto\n",
        "  I=I*np.pi/180; \n",
        "  a=az2carto(a)*np.pi/180; #Direccion BEDDING; en azimut del rumbo\n",
        "  b=az2carto(b)*np.pi/180; #Direccion de la inclinacion: en azimut del buzamiento\n",
        "  f=az2carto(f)*np.pi/180; #Direccion del segmento: en azimut del rumbo\n",
        "  ############# calcular variables aparentes\n",
        "  omega=np.arctan(np.tan(I)*np.sin(abs(a-f)))*180/np.pi # Ángulo de inclinación aparente\n",
        "  E=np.sin(omega*np.pi/180)*L #ESPESOR APARENTE EN EL SEGMENTO L\n",
        "  # calcular variables reales\n",
        "  L2=abs(np.cos((f-b))*L) # LONGITUD L PROYECTADA EN LA MISMA DIRECCIÓN DEL BUZAMIENTO\n",
        "  E2=np.sin(I)*L2 #ESPESOR REAL\n",
        "  return E2\n"
      ],
      "metadata": {
        "id": "BUDpIOEycnFB"
      },
      "execution_count": 7,
      "outputs": []
    },
    {
      "cell_type": "code",
      "source": [
        "help(cal_thick)"
      ],
      "metadata": {
        "colab": {
          "base_uri": "https://localhost:8080/"
        },
        "id": "BYUCOlU1dWKo",
        "outputId": "9014a7ee-64d3-49f3-f8e8-7c067ff2ce95"
      },
      "execution_count": 8,
      "outputs": [
        {
          "output_type": "stream",
          "name": "stdout",
          "text": [
            "Help on function cal_thick in module __main__:\n",
            "\n",
            "cal_thick(L, I, a, b, f)\n",
            "    cal_thick: Calcular el espesor real a partir de los datos medidos en una poligonal\n",
            "    Hecho por: Paul Goyes (goyes.yesid@gmail.com) y Ana Mantilla (anagmd2019@gmail.com)\n",
            "    \n",
            "    Variables de entrada\n",
            "    L:  Longitud de la via o segmento a calcular espesor aparente (metros)\n",
            "    I: Inclinación de la capa en azimut del rumbo\n",
            "    a: Direccion del bedding en azi del rumbo\n",
            "    b: Direccion del bedding en azi del buzamiento\n",
            "    f: Direccion del segmento en azi del rumbo\n",
            "\n"
          ]
        }
      ]
    },
    {
      "cell_type": "code",
      "source": [
        "cal_thick(133,40,90,180,148)"
      ],
      "metadata": {
        "colab": {
          "base_uri": "https://localhost:8080/"
        },
        "id": "Gr3jTcEzfUo5",
        "outputId": "c3453cb2-b8cb-41dc-c730-ce0f39a7a3f3"
      },
      "execution_count": 9,
      "outputs": [
        {
          "output_type": "execute_result",
          "data": {
            "text/plain": [
              "72.50026954747207"
            ]
          },
          "metadata": {},
          "execution_count": 9
        }
      ]
    },
    {
      "cell_type": "code",
      "source": [
        "# Cargar el dato en formato csv\n",
        "\n",
        "df = pd.read_csv('/content/sample_data/data_poligonal.csv', delimiter=';')"
      ],
      "metadata": {
        "id": "UPiTRZneb_nS"
      },
      "execution_count": 12,
      "outputs": []
    },
    {
      "cell_type": "code",
      "source": [
        "df"
      ],
      "metadata": {
        "id": "h8OZqlMYcIIy"
      },
      "execution_count": null,
      "outputs": []
    },
    {
      "cell_type": "code",
      "source": [
        "#Crear nueva columna donde se guardará el espesor real calculado\n",
        "\n",
        "df[\"espesor\"] = cal_thick(df[\"DistSegmento\"],df[\"dip_bedding\"],df[\"Az_rumbo_bedding\"],df[\"Az_buz_bedding\"],df[\"Azi_Segmento\"])"
      ],
      "metadata": {
        "id": "AtT8ApKjcIrh"
      },
      "execution_count": 14,
      "outputs": []
    },
    {
      "cell_type": "code",
      "source": [
        "df"
      ],
      "metadata": {
        "colab": {
          "base_uri": "https://localhost:8080/",
          "height": 363
        },
        "id": "ivjizkBjeNLn",
        "outputId": "97decf48-2225-4ed9-fa3c-a8cf687258b2"
      },
      "execution_count": 15,
      "outputs": [
        {
          "output_type": "execute_result",
          "data": {
            "text/plain": [
              "   DistSegmento  Azi_Segmento  Dip_Segmento  Az_rumbo_bedding  Az_buz_bedding  \\\n",
              "0            20           240             4               340              70   \n",
              "1            12           215             4               340              70   \n",
              "2            12           215             4               340              70   \n",
              "3             9            95             7               338              68   \n",
              "4            18           200             9               335              65   \n",
              "5            32           220             4               334              64   \n",
              "6            18           250             0               330              60   \n",
              "7            42           200            -2               330              60   \n",
              "8            32           190            -3               330              60   \n",
              "9            40           180            -2               330              60   \n",
              "\n",
              "   dip_bedding    espesor  \n",
              "0           42  13.179300  \n",
              "1           42   6.577436  \n",
              "2           42   6.577436  \n",
              "3           40   5.154552  \n",
              "4           40   8.181351  \n",
              "5           40  18.790902  \n",
              "6           38  10.913547  \n",
              "7           38  19.808210  \n",
              "8           38  12.663666  \n",
              "9           38  12.313230  "
            ],
            "text/html": [
              "\n",
              "  <div id=\"df-2bd92f1b-9b49-4314-b75a-918e352169b6\">\n",
              "    <div class=\"colab-df-container\">\n",
              "      <div>\n",
              "<style scoped>\n",
              "    .dataframe tbody tr th:only-of-type {\n",
              "        vertical-align: middle;\n",
              "    }\n",
              "\n",
              "    .dataframe tbody tr th {\n",
              "        vertical-align: top;\n",
              "    }\n",
              "\n",
              "    .dataframe thead th {\n",
              "        text-align: right;\n",
              "    }\n",
              "</style>\n",
              "<table border=\"1\" class=\"dataframe\">\n",
              "  <thead>\n",
              "    <tr style=\"text-align: right;\">\n",
              "      <th></th>\n",
              "      <th>DistSegmento</th>\n",
              "      <th>Azi_Segmento</th>\n",
              "      <th>Dip_Segmento</th>\n",
              "      <th>Az_rumbo_bedding</th>\n",
              "      <th>Az_buz_bedding</th>\n",
              "      <th>dip_bedding</th>\n",
              "      <th>espesor</th>\n",
              "    </tr>\n",
              "  </thead>\n",
              "  <tbody>\n",
              "    <tr>\n",
              "      <th>0</th>\n",
              "      <td>20</td>\n",
              "      <td>240</td>\n",
              "      <td>4</td>\n",
              "      <td>340</td>\n",
              "      <td>70</td>\n",
              "      <td>42</td>\n",
              "      <td>13.179300</td>\n",
              "    </tr>\n",
              "    <tr>\n",
              "      <th>1</th>\n",
              "      <td>12</td>\n",
              "      <td>215</td>\n",
              "      <td>4</td>\n",
              "      <td>340</td>\n",
              "      <td>70</td>\n",
              "      <td>42</td>\n",
              "      <td>6.577436</td>\n",
              "    </tr>\n",
              "    <tr>\n",
              "      <th>2</th>\n",
              "      <td>12</td>\n",
              "      <td>215</td>\n",
              "      <td>4</td>\n",
              "      <td>340</td>\n",
              "      <td>70</td>\n",
              "      <td>42</td>\n",
              "      <td>6.577436</td>\n",
              "    </tr>\n",
              "    <tr>\n",
              "      <th>3</th>\n",
              "      <td>9</td>\n",
              "      <td>95</td>\n",
              "      <td>7</td>\n",
              "      <td>338</td>\n",
              "      <td>68</td>\n",
              "      <td>40</td>\n",
              "      <td>5.154552</td>\n",
              "    </tr>\n",
              "    <tr>\n",
              "      <th>4</th>\n",
              "      <td>18</td>\n",
              "      <td>200</td>\n",
              "      <td>9</td>\n",
              "      <td>335</td>\n",
              "      <td>65</td>\n",
              "      <td>40</td>\n",
              "      <td>8.181351</td>\n",
              "    </tr>\n",
              "    <tr>\n",
              "      <th>5</th>\n",
              "      <td>32</td>\n",
              "      <td>220</td>\n",
              "      <td>4</td>\n",
              "      <td>334</td>\n",
              "      <td>64</td>\n",
              "      <td>40</td>\n",
              "      <td>18.790902</td>\n",
              "    </tr>\n",
              "    <tr>\n",
              "      <th>6</th>\n",
              "      <td>18</td>\n",
              "      <td>250</td>\n",
              "      <td>0</td>\n",
              "      <td>330</td>\n",
              "      <td>60</td>\n",
              "      <td>38</td>\n",
              "      <td>10.913547</td>\n",
              "    </tr>\n",
              "    <tr>\n",
              "      <th>7</th>\n",
              "      <td>42</td>\n",
              "      <td>200</td>\n",
              "      <td>-2</td>\n",
              "      <td>330</td>\n",
              "      <td>60</td>\n",
              "      <td>38</td>\n",
              "      <td>19.808210</td>\n",
              "    </tr>\n",
              "    <tr>\n",
              "      <th>8</th>\n",
              "      <td>32</td>\n",
              "      <td>190</td>\n",
              "      <td>-3</td>\n",
              "      <td>330</td>\n",
              "      <td>60</td>\n",
              "      <td>38</td>\n",
              "      <td>12.663666</td>\n",
              "    </tr>\n",
              "    <tr>\n",
              "      <th>9</th>\n",
              "      <td>40</td>\n",
              "      <td>180</td>\n",
              "      <td>-2</td>\n",
              "      <td>330</td>\n",
              "      <td>60</td>\n",
              "      <td>38</td>\n",
              "      <td>12.313230</td>\n",
              "    </tr>\n",
              "  </tbody>\n",
              "</table>\n",
              "</div>\n",
              "      <button class=\"colab-df-convert\" onclick=\"convertToInteractive('df-2bd92f1b-9b49-4314-b75a-918e352169b6')\"\n",
              "              title=\"Convert this dataframe to an interactive table.\"\n",
              "              style=\"display:none;\">\n",
              "        \n",
              "  <svg xmlns=\"http://www.w3.org/2000/svg\" height=\"24px\"viewBox=\"0 0 24 24\"\n",
              "       width=\"24px\">\n",
              "    <path d=\"M0 0h24v24H0V0z\" fill=\"none\"/>\n",
              "    <path d=\"M18.56 5.44l.94 2.06.94-2.06 2.06-.94-2.06-.94-.94-2.06-.94 2.06-2.06.94zm-11 1L8.5 8.5l.94-2.06 2.06-.94-2.06-.94L8.5 2.5l-.94 2.06-2.06.94zm10 10l.94 2.06.94-2.06 2.06-.94-2.06-.94-.94-2.06-.94 2.06-2.06.94z\"/><path d=\"M17.41 7.96l-1.37-1.37c-.4-.4-.92-.59-1.43-.59-.52 0-1.04.2-1.43.59L10.3 9.45l-7.72 7.72c-.78.78-.78 2.05 0 2.83L4 21.41c.39.39.9.59 1.41.59.51 0 1.02-.2 1.41-.59l7.78-7.78 2.81-2.81c.8-.78.8-2.07 0-2.86zM5.41 20L4 18.59l7.72-7.72 1.47 1.35L5.41 20z\"/>\n",
              "  </svg>\n",
              "      </button>\n",
              "      \n",
              "  <style>\n",
              "    .colab-df-container {\n",
              "      display:flex;\n",
              "      flex-wrap:wrap;\n",
              "      gap: 12px;\n",
              "    }\n",
              "\n",
              "    .colab-df-convert {\n",
              "      background-color: #E8F0FE;\n",
              "      border: none;\n",
              "      border-radius: 50%;\n",
              "      cursor: pointer;\n",
              "      display: none;\n",
              "      fill: #1967D2;\n",
              "      height: 32px;\n",
              "      padding: 0 0 0 0;\n",
              "      width: 32px;\n",
              "    }\n",
              "\n",
              "    .colab-df-convert:hover {\n",
              "      background-color: #E2EBFA;\n",
              "      box-shadow: 0px 1px 2px rgba(60, 64, 67, 0.3), 0px 1px 3px 1px rgba(60, 64, 67, 0.15);\n",
              "      fill: #174EA6;\n",
              "    }\n",
              "\n",
              "    [theme=dark] .colab-df-convert {\n",
              "      background-color: #3B4455;\n",
              "      fill: #D2E3FC;\n",
              "    }\n",
              "\n",
              "    [theme=dark] .colab-df-convert:hover {\n",
              "      background-color: #434B5C;\n",
              "      box-shadow: 0px 1px 3px 1px rgba(0, 0, 0, 0.15);\n",
              "      filter: drop-shadow(0px 1px 2px rgba(0, 0, 0, 0.3));\n",
              "      fill: #FFFFFF;\n",
              "    }\n",
              "  </style>\n",
              "\n",
              "      <script>\n",
              "        const buttonEl =\n",
              "          document.querySelector('#df-2bd92f1b-9b49-4314-b75a-918e352169b6 button.colab-df-convert');\n",
              "        buttonEl.style.display =\n",
              "          google.colab.kernel.accessAllowed ? 'block' : 'none';\n",
              "\n",
              "        async function convertToInteractive(key) {\n",
              "          const element = document.querySelector('#df-2bd92f1b-9b49-4314-b75a-918e352169b6');\n",
              "          const dataTable =\n",
              "            await google.colab.kernel.invokeFunction('convertToInteractive',\n",
              "                                                     [key], {});\n",
              "          if (!dataTable) return;\n",
              "\n",
              "          const docLinkHtml = 'Like what you see? Visit the ' +\n",
              "            '<a target=\"_blank\" href=https://colab.research.google.com/notebooks/data_table.ipynb>data table notebook</a>'\n",
              "            + ' to learn more about interactive tables.';\n",
              "          element.innerHTML = '';\n",
              "          dataTable['output_type'] = 'display_data';\n",
              "          await google.colab.output.renderOutput(dataTable, element);\n",
              "          const docLink = document.createElement('div');\n",
              "          docLink.innerHTML = docLinkHtml;\n",
              "          element.appendChild(docLink);\n",
              "        }\n",
              "      </script>\n",
              "    </div>\n",
              "  </div>\n",
              "  "
            ]
          },
          "metadata": {},
          "execution_count": 15
        }
      ]
    },
    {
      "cell_type": "code",
      "source": [
        " # Calcular el espesor acumulado\n",
        " \n",
        " df[\"espesor_acum\"] =df[\"espesor\"].values.cumsum()"
      ],
      "metadata": {
        "id": "JUgLiscOiyxw"
      },
      "execution_count": 16,
      "outputs": []
    },
    {
      "cell_type": "code",
      "source": [
        "df"
      ],
      "metadata": {
        "colab": {
          "base_uri": "https://localhost:8080/",
          "height": 363
        },
        "id": "82vQPt7_jZ7E",
        "outputId": "51791d5e-682c-4950-a3bc-5ae94c92e78b"
      },
      "execution_count": 17,
      "outputs": [
        {
          "output_type": "execute_result",
          "data": {
            "text/plain": [
              "   DistSegmento  Azi_Segmento  Dip_Segmento  Az_rumbo_bedding  Az_buz_bedding  \\\n",
              "0            20           240             4               340              70   \n",
              "1            12           215             4               340              70   \n",
              "2            12           215             4               340              70   \n",
              "3             9            95             7               338              68   \n",
              "4            18           200             9               335              65   \n",
              "5            32           220             4               334              64   \n",
              "6            18           250             0               330              60   \n",
              "7            42           200            -2               330              60   \n",
              "8            32           190            -3               330              60   \n",
              "9            40           180            -2               330              60   \n",
              "\n",
              "   dip_bedding    espesor  espesor_acum  \n",
              "0           42  13.179300     13.179300  \n",
              "1           42   6.577436     19.756737  \n",
              "2           42   6.577436     26.334173  \n",
              "3           40   5.154552     31.488725  \n",
              "4           40   8.181351     39.670075  \n",
              "5           40  18.790902     58.460978  \n",
              "6           38  10.913547     69.374525  \n",
              "7           38  19.808210     89.182735  \n",
              "8           38  12.663666    101.846402  \n",
              "9           38  12.313230    114.159631  "
            ],
            "text/html": [
              "\n",
              "  <div id=\"df-d9374900-859b-48e9-82e8-ac0d5696e923\">\n",
              "    <div class=\"colab-df-container\">\n",
              "      <div>\n",
              "<style scoped>\n",
              "    .dataframe tbody tr th:only-of-type {\n",
              "        vertical-align: middle;\n",
              "    }\n",
              "\n",
              "    .dataframe tbody tr th {\n",
              "        vertical-align: top;\n",
              "    }\n",
              "\n",
              "    .dataframe thead th {\n",
              "        text-align: right;\n",
              "    }\n",
              "</style>\n",
              "<table border=\"1\" class=\"dataframe\">\n",
              "  <thead>\n",
              "    <tr style=\"text-align: right;\">\n",
              "      <th></th>\n",
              "      <th>DistSegmento</th>\n",
              "      <th>Azi_Segmento</th>\n",
              "      <th>Dip_Segmento</th>\n",
              "      <th>Az_rumbo_bedding</th>\n",
              "      <th>Az_buz_bedding</th>\n",
              "      <th>dip_bedding</th>\n",
              "      <th>espesor</th>\n",
              "      <th>espesor_acum</th>\n",
              "    </tr>\n",
              "  </thead>\n",
              "  <tbody>\n",
              "    <tr>\n",
              "      <th>0</th>\n",
              "      <td>20</td>\n",
              "      <td>240</td>\n",
              "      <td>4</td>\n",
              "      <td>340</td>\n",
              "      <td>70</td>\n",
              "      <td>42</td>\n",
              "      <td>13.179300</td>\n",
              "      <td>13.179300</td>\n",
              "    </tr>\n",
              "    <tr>\n",
              "      <th>1</th>\n",
              "      <td>12</td>\n",
              "      <td>215</td>\n",
              "      <td>4</td>\n",
              "      <td>340</td>\n",
              "      <td>70</td>\n",
              "      <td>42</td>\n",
              "      <td>6.577436</td>\n",
              "      <td>19.756737</td>\n",
              "    </tr>\n",
              "    <tr>\n",
              "      <th>2</th>\n",
              "      <td>12</td>\n",
              "      <td>215</td>\n",
              "      <td>4</td>\n",
              "      <td>340</td>\n",
              "      <td>70</td>\n",
              "      <td>42</td>\n",
              "      <td>6.577436</td>\n",
              "      <td>26.334173</td>\n",
              "    </tr>\n",
              "    <tr>\n",
              "      <th>3</th>\n",
              "      <td>9</td>\n",
              "      <td>95</td>\n",
              "      <td>7</td>\n",
              "      <td>338</td>\n",
              "      <td>68</td>\n",
              "      <td>40</td>\n",
              "      <td>5.154552</td>\n",
              "      <td>31.488725</td>\n",
              "    </tr>\n",
              "    <tr>\n",
              "      <th>4</th>\n",
              "      <td>18</td>\n",
              "      <td>200</td>\n",
              "      <td>9</td>\n",
              "      <td>335</td>\n",
              "      <td>65</td>\n",
              "      <td>40</td>\n",
              "      <td>8.181351</td>\n",
              "      <td>39.670075</td>\n",
              "    </tr>\n",
              "    <tr>\n",
              "      <th>5</th>\n",
              "      <td>32</td>\n",
              "      <td>220</td>\n",
              "      <td>4</td>\n",
              "      <td>334</td>\n",
              "      <td>64</td>\n",
              "      <td>40</td>\n",
              "      <td>18.790902</td>\n",
              "      <td>58.460978</td>\n",
              "    </tr>\n",
              "    <tr>\n",
              "      <th>6</th>\n",
              "      <td>18</td>\n",
              "      <td>250</td>\n",
              "      <td>0</td>\n",
              "      <td>330</td>\n",
              "      <td>60</td>\n",
              "      <td>38</td>\n",
              "      <td>10.913547</td>\n",
              "      <td>69.374525</td>\n",
              "    </tr>\n",
              "    <tr>\n",
              "      <th>7</th>\n",
              "      <td>42</td>\n",
              "      <td>200</td>\n",
              "      <td>-2</td>\n",
              "      <td>330</td>\n",
              "      <td>60</td>\n",
              "      <td>38</td>\n",
              "      <td>19.808210</td>\n",
              "      <td>89.182735</td>\n",
              "    </tr>\n",
              "    <tr>\n",
              "      <th>8</th>\n",
              "      <td>32</td>\n",
              "      <td>190</td>\n",
              "      <td>-3</td>\n",
              "      <td>330</td>\n",
              "      <td>60</td>\n",
              "      <td>38</td>\n",
              "      <td>12.663666</td>\n",
              "      <td>101.846402</td>\n",
              "    </tr>\n",
              "    <tr>\n",
              "      <th>9</th>\n",
              "      <td>40</td>\n",
              "      <td>180</td>\n",
              "      <td>-2</td>\n",
              "      <td>330</td>\n",
              "      <td>60</td>\n",
              "      <td>38</td>\n",
              "      <td>12.313230</td>\n",
              "      <td>114.159631</td>\n",
              "    </tr>\n",
              "  </tbody>\n",
              "</table>\n",
              "</div>\n",
              "      <button class=\"colab-df-convert\" onclick=\"convertToInteractive('df-d9374900-859b-48e9-82e8-ac0d5696e923')\"\n",
              "              title=\"Convert this dataframe to an interactive table.\"\n",
              "              style=\"display:none;\">\n",
              "        \n",
              "  <svg xmlns=\"http://www.w3.org/2000/svg\" height=\"24px\"viewBox=\"0 0 24 24\"\n",
              "       width=\"24px\">\n",
              "    <path d=\"M0 0h24v24H0V0z\" fill=\"none\"/>\n",
              "    <path d=\"M18.56 5.44l.94 2.06.94-2.06 2.06-.94-2.06-.94-.94-2.06-.94 2.06-2.06.94zm-11 1L8.5 8.5l.94-2.06 2.06-.94-2.06-.94L8.5 2.5l-.94 2.06-2.06.94zm10 10l.94 2.06.94-2.06 2.06-.94-2.06-.94-.94-2.06-.94 2.06-2.06.94z\"/><path d=\"M17.41 7.96l-1.37-1.37c-.4-.4-.92-.59-1.43-.59-.52 0-1.04.2-1.43.59L10.3 9.45l-7.72 7.72c-.78.78-.78 2.05 0 2.83L4 21.41c.39.39.9.59 1.41.59.51 0 1.02-.2 1.41-.59l7.78-7.78 2.81-2.81c.8-.78.8-2.07 0-2.86zM5.41 20L4 18.59l7.72-7.72 1.47 1.35L5.41 20z\"/>\n",
              "  </svg>\n",
              "      </button>\n",
              "      \n",
              "  <style>\n",
              "    .colab-df-container {\n",
              "      display:flex;\n",
              "      flex-wrap:wrap;\n",
              "      gap: 12px;\n",
              "    }\n",
              "\n",
              "    .colab-df-convert {\n",
              "      background-color: #E8F0FE;\n",
              "      border: none;\n",
              "      border-radius: 50%;\n",
              "      cursor: pointer;\n",
              "      display: none;\n",
              "      fill: #1967D2;\n",
              "      height: 32px;\n",
              "      padding: 0 0 0 0;\n",
              "      width: 32px;\n",
              "    }\n",
              "\n",
              "    .colab-df-convert:hover {\n",
              "      background-color: #E2EBFA;\n",
              "      box-shadow: 0px 1px 2px rgba(60, 64, 67, 0.3), 0px 1px 3px 1px rgba(60, 64, 67, 0.15);\n",
              "      fill: #174EA6;\n",
              "    }\n",
              "\n",
              "    [theme=dark] .colab-df-convert {\n",
              "      background-color: #3B4455;\n",
              "      fill: #D2E3FC;\n",
              "    }\n",
              "\n",
              "    [theme=dark] .colab-df-convert:hover {\n",
              "      background-color: #434B5C;\n",
              "      box-shadow: 0px 1px 3px 1px rgba(0, 0, 0, 0.15);\n",
              "      filter: drop-shadow(0px 1px 2px rgba(0, 0, 0, 0.3));\n",
              "      fill: #FFFFFF;\n",
              "    }\n",
              "  </style>\n",
              "\n",
              "      <script>\n",
              "        const buttonEl =\n",
              "          document.querySelector('#df-d9374900-859b-48e9-82e8-ac0d5696e923 button.colab-df-convert');\n",
              "        buttonEl.style.display =\n",
              "          google.colab.kernel.accessAllowed ? 'block' : 'none';\n",
              "\n",
              "        async function convertToInteractive(key) {\n",
              "          const element = document.querySelector('#df-d9374900-859b-48e9-82e8-ac0d5696e923');\n",
              "          const dataTable =\n",
              "            await google.colab.kernel.invokeFunction('convertToInteractive',\n",
              "                                                     [key], {});\n",
              "          if (!dataTable) return;\n",
              "\n",
              "          const docLinkHtml = 'Like what you see? Visit the ' +\n",
              "            '<a target=\"_blank\" href=https://colab.research.google.com/notebooks/data_table.ipynb>data table notebook</a>'\n",
              "            + ' to learn more about interactive tables.';\n",
              "          element.innerHTML = '';\n",
              "          dataTable['output_type'] = 'display_data';\n",
              "          await google.colab.output.renderOutput(dataTable, element);\n",
              "          const docLink = document.createElement('div');\n",
              "          docLink.innerHTML = docLinkHtml;\n",
              "          element.appendChild(docLink);\n",
              "        }\n",
              "      </script>\n",
              "    </div>\n",
              "  </div>\n",
              "  "
            ]
          },
          "metadata": {},
          "execution_count": 17
        }
      ]
    },
    {
      "cell_type": "code",
      "source": [
        "#Exportar datos calculados\n",
        "\n",
        "pol = df.to_csv('/content/sample_data/pol.csv')"
      ],
      "metadata": {
        "id": "k9EdOEr9eOhh"
      },
      "execution_count": 19,
      "outputs": []
    }
  ]
}